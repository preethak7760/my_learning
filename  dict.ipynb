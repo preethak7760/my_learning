{
 "cells": [
  {
   "cell_type": "markdown",
   "id": "aabd2ecb-6034-4cb7-a2b7-eb709e8b7c64",
   "metadata": {},
   "source": [
    "# create an empty dictionary"
   ]
  },
  {
   "cell_type": "code",
   "execution_count": 1,
   "id": "db89b9be-e92a-4b9e-b299-7408f9956b6b",
   "metadata": {},
   "outputs": [
    {
     "name": "stdout",
     "output_type": "stream",
     "text": [
      "{}\n"
     ]
    }
   ],
   "source": [
    "empty_dictionary =  {}\n",
    "print(empty_dictionary)\n"
   ]
  },
  {
   "cell_type": "markdown",
   "id": "b0a268cd-3810-4828-925d-98216c332df1",
   "metadata": {},
   "source": [
    "# sample dictionary"
   ]
  },
  {
   "cell_type": "code",
   "execution_count": 2,
   "id": "66941d6e-e78a-475d-a7cb-3183ee48f927",
   "metadata": {},
   "outputs": [
    {
     "name": "stdout",
     "output_type": "stream",
     "text": [
      "{'key': 'value'}\n"
     ]
    }
   ],
   "source": [
    "sample_dictionary = {'key': 'value'}\n",
    "print(sample_dictionary)"
   ]
  },
  {
   "cell_type": "code",
   "execution_count": 4,
   "id": "e1230d1c-f661-4fe7-ac76-5250a4b457b1",
   "metadata": {},
   "outputs": [
    {
     "name": "stdout",
     "output_type": "stream",
     "text": [
      "{'names': ['preetha', 'varshana'], 'qualification': 'msc'}\n"
     ]
    }
   ],
   "source": [
    "example_dictionary = {'names': ['preetha', 'varshana'], 'qualification': 'msc'}\n",
    "print(example_dictionary)"
   ]
  },
  {
   "cell_type": "markdown",
   "id": "2d61a7bf-6b0a-4985-b4a7-1d3acc9be66a",
   "metadata": {},
   "source": [
    "# how to get keys and values of dictionary"
   ]
  },
  {
   "cell_type": "code",
   "execution_count": 5,
   "id": "d836bc34-cf8f-42b8-a3f3-bf9fd83fae37",
   "metadata": {},
   "outputs": [
    {
     "name": "stdout",
     "output_type": "stream",
     "text": [
      "dict_keys(['names', 'qualification'])\n"
     ]
    }
   ],
   "source": [
    "print(example_dictionary.keys())"
   ]
  },
  {
   "cell_type": "code",
   "execution_count": 6,
   "id": "5b972b6e-24a7-4463-b2f0-0a335c793bea",
   "metadata": {},
   "outputs": [
    {
     "name": "stdout",
     "output_type": "stream",
     "text": [
      "dict_values([['preetha', 'varshana'], 'msc'])\n"
     ]
    }
   ],
   "source": [
    "print(example_dictionary.values())"
   ]
  },
  {
   "cell_type": "markdown",
   "id": "7b2acd43-2378-4443-819a-3cc44c20811b",
   "metadata": {},
   "source": [
    "# How to add key and value to dictionary"
   ]
  },
  {
   "cell_type": "code",
   "execution_count": 7,
   "id": "d0e146ff-735b-4241-9d58-1793ba03b180",
   "metadata": {},
   "outputs": [
    {
     "name": "stdout",
     "output_type": "stream",
     "text": [
      "{'key1': 'value1', 'key2': 'value2', 'key3': 'value3'}\n"
     ]
    }
   ],
   "source": [
    "my_dict = {'key1': 'value1', 'key2': 'value2'}\n",
    "my_dict['key3'] = 'value3'\n",
    "print(my_dict)"
   ]
  },
  {
   "cell_type": "markdown",
   "id": "47355cbc-ba1f-4daf-97dd-40227b8ba683",
   "metadata": {},
   "source": [
    "# Can we add duplicate key in dictionary? No"
   ]
  },
  {
   "cell_type": "code",
   "execution_count": 8,
   "id": "072f5157-16fc-488d-a095-7c6fa29255c1",
   "metadata": {},
   "outputs": [
    {
     "name": "stdout",
     "output_type": "stream",
     "text": [
      "{'key1': 'value3', 'key2': 'value2'}\n"
     ]
    }
   ],
   "source": [
    "my_dict = {'key1': 'value1', 'key2': 'value2'}\n",
    "my_dict['key1'] = 'value3'\n",
    "print(my_dict)"
   ]
  },
  {
   "cell_type": "markdown",
   "id": "1a352134-433c-4e09-a936-f6443b1e5c8b",
   "metadata": {},
   "source": [
    "# How to delete a key and value from dictionary"
   ]
  },
  {
   "cell_type": "code",
   "execution_count": 9,
   "id": "37f278c0-fda1-4dff-a9db-8acb6533bfe1",
   "metadata": {},
   "outputs": [
    {
     "name": "stdout",
     "output_type": "stream",
     "text": [
      "{'key1': 'value1', 'key3': 'value3'}\n"
     ]
    }
   ],
   "source": [
    "my_dict =  {'key1': 'value1', 'key2': 'value2', 'key3': 'value3'}\n",
    "del my_dict['key2']\n",
    "print(my_dict)"
   ]
  },
  {
   "cell_type": "markdown",
   "id": "505de801-bd29-4296-8ca1-cf006520ec93",
   "metadata": {},
   "source": [
    "# Mutable or Immutable? Mutable"
   ]
  },
  {
   "cell_type": "markdown",
   "id": "f5b3f22c-3829-4ab9-89da-8df928596ce9",
   "metadata": {},
   "source": [
    "my_dict = {'key1': 'value1', 'key2': 'value2'}\n",
    "my_dict['key1'] = 'new_value' \n",
    "print(my_dict)"
   ]
  },
  {
   "cell_type": "markdown",
   "id": "4c7df5b1-41c9-4d76-a4d1-93f9362bb46f",
   "metadata": {},
   "source": [
    "# iterable or not? iterable"
   ]
  },
  {
   "cell_type": "code",
   "execution_count": 11,
   "id": "cd0ecc3c-1390-4fbe-bd1b-d57ddcc93e8e",
   "metadata": {},
   "outputs": [
    {
     "name": "stdout",
     "output_type": "stream",
     "text": [
      "key1\n",
      "key2\n"
     ]
    }
   ],
   "source": [
    "my_dict = {'key1': 'value1', 'key2': 'value2'}\n",
    "for i  in my_dict:\n",
    "    print(i)"
   ]
  },
  {
   "cell_type": "markdown",
   "id": "c3390de9-54b5-4cfd-879d-b0e839c5eb0f",
   "metadata": {},
   "source": [
    "# Ordered or unordered? python 3.7 before - unordered. after python 3.7 dictionary is ordered"
   ]
  },
  {
   "cell_type": "markdown",
   "id": "3d454ec7-4b3d-445d-af08-885970b66cff",
   "metadata": {},
   "source": [
    "# version"
   ]
  },
  {
   "cell_type": "code",
   "execution_count": 12,
   "id": "85fef911-44fb-42ba-bf1a-d8129ff30384",
   "metadata": {},
   "outputs": [
    {
     "name": "stdout",
     "output_type": "stream",
     "text": [
      "3.11.2 (tags/v3.11.2:878ead1, Feb  7 2023, 16:38:35) [MSC v.1934 64 bit (AMD64)]\n"
     ]
    }
   ],
   "source": [
    "import sys\n",
    "print(sys.version)"
   ]
  },
  {
   "cell_type": "code",
   "execution_count": 13,
   "id": "f5f77a56-f3bc-454a-895d-ab535655e0c4",
   "metadata": {},
   "outputs": [
    {
     "name": "stdout",
     "output_type": "stream",
     "text": [
      "key1\n",
      "key2\n"
     ]
    }
   ],
   "source": [
    "my_dict = {'key1': 'value1', 'key2': 'value2'}\n",
    "for i in my_dict:\n",
    " print(i)"
   ]
  },
  {
   "cell_type": "code",
   "execution_count": 15,
   "id": "1e518878-bfc3-49fa-ba34-016443980e0a",
   "metadata": {},
   "outputs": [
    {
     "name": "stdout",
     "output_type": "stream",
     "text": [
      "{'key1': 'value1', 'key2': 'value2', 'key3': 'value3', 'key4': 'value4'}\n"
     ]
    }
   ],
   "source": [
    "my_dictionary={'key1':'value1','key2':'value2','key3':'value3'}\n",
    "my_dictionary['key6']='value6'\n",
    "my_dictionary.update({'key4':'value4'})\n",
    "del my_dictionary['key6']\n",
    "print(my_dictionary)"
   ]
  },
  {
   "cell_type": "code",
   "execution_count": null,
   "id": "da87d6e1-3002-4097-89e9-dcaec7505a93",
   "metadata": {},
   "outputs": [],
   "source": []
  }
 ],
 "metadata": {
  "kernelspec": {
   "display_name": "Python 3 (ipykernel)",
   "language": "python",
   "name": "python3"
  },
  "language_info": {
   "codemirror_mode": {
    "name": "ipython",
    "version": 3
   },
   "file_extension": ".py",
   "mimetype": "text/x-python",
   "name": "python",
   "nbconvert_exporter": "python",
   "pygments_lexer": "ipython3",
   "version": "3.11.2"
  }
 },
 "nbformat": 4,
 "nbformat_minor": 5
}
