{
 "cells": [
  {
   "cell_type": "markdown",
   "id": "947aabcc-b729-4051-8076-34069c2e1ce2",
   "metadata": {},
   "source": [
    "# Types of Operator"
   ]
  },
  {
   "cell_type": "code",
   "execution_count": null,
   "id": "9832e813-67b9-4e1c-b7b6-c9a76eedc2dc",
   "metadata": {},
   "outputs": [],
   "source": [
    "Python language supports the following types of operators.\n",
    "\n",
    "• Arithmetic Operators\n",
    "• Comparison (Relational) Operators\n",
    "• Assignment Operators\n",
    "• Logical Operators\n",
    "• Bitwise Operators\n",
    "• Membership Operators\n",
    "• Identity Operators"
   ]
  },
  {
   "cell_type": "markdown",
   "id": "b2eab915-bfcc-4534-b62d-ab7f7c6d4ffb",
   "metadata": {},
   "source": [
    "# Arithmetic Operators"
   ]
  },
  {
   "cell_type": "markdown",
   "id": "fe1bffd8-dcd1-4b06-99ba-6a78240c4c90",
   "metadata": {},
   "source": [
    "#### Addition ---> +"
   ]
  },
  {
   "cell_type": "code",
   "execution_count": 2,
   "id": "4ae6d707-2427-4267-ae28-0648e22a3ead",
   "metadata": {},
   "outputs": [
    {
     "name": "stdout",
     "output_type": "stream",
     "text": [
      "30\n"
     ]
    }
   ],
   "source": [
    "a= 10\n",
    "b = 20\n",
    "c = a + b\n",
    "print(c)"
   ]
  },
  {
   "cell_type": "markdown",
   "id": "94a05330-7c4d-44df-812d-7e245d13e15c",
   "metadata": {},
   "source": [
    "#### substraction ---> -"
   ]
  },
  {
   "cell_type": "code",
   "execution_count": 3,
   "id": "4186ac81-04e5-4c4d-ad1d-28e4aede65ef",
   "metadata": {},
   "outputs": [
    {
     "name": "stdout",
     "output_type": "stream",
     "text": [
      "10\n"
     ]
    }
   ],
   "source": [
    "a= 10\n",
    "b = 20\n",
    "c = b - a\n",
    "print(c)"
   ]
  },
  {
   "cell_type": "markdown",
   "id": "40336401-31d6-41bf-9cfc-05976de879b8",
   "metadata": {},
   "source": [
    "#### Multiplication ---> *"
   ]
  },
  {
   "cell_type": "code",
   "execution_count": 5,
   "id": "421ba8df-922f-454c-b0ae-b6e27f458d95",
   "metadata": {},
   "outputs": [
    {
     "name": "stdout",
     "output_type": "stream",
     "text": [
      "300\n"
     ]
    }
   ],
   "source": [
    "a= 10\n",
    "b = 30\n",
    "c = b * a\n",
    "print(c)"
   ]
  },
  {
   "cell_type": "markdown",
   "id": "4d30801e-e9fd-4faf-ab15-1076379d9c69",
   "metadata": {},
   "source": [
    "#### Division[normal] ---> /"
   ]
  },
  {
   "cell_type": "code",
   "execution_count": 6,
   "id": "800367ba-28c4-4116-8b7a-3169a8a6e3fb",
   "metadata": {},
   "outputs": [
    {
     "name": "stdout",
     "output_type": "stream",
     "text": [
      "2.3333333333333335\n"
     ]
    }
   ],
   "source": [
    "a= 3 # Gives the quotient value\n",
    "b = 7\n",
    "c = b / a\n",
    "print(c)"
   ]
  },
  {
   "cell_type": "markdown",
   "id": "e20e1c3a-1717-417d-9b90-a8a076c0dffa",
   "metadata": {},
   "source": [
    "#### Modular Divsion ---> %"
   ]
  },
  {
   "cell_type": "code",
   "execution_count": 8,
   "id": "c87e8294-e16b-4f41-8ca5-66e790dcf03a",
   "metadata": {},
   "outputs": [
    {
     "name": "stdout",
     "output_type": "stream",
     "text": [
      "0\n"
     ]
    }
   ],
   "source": [
    "a= 10  # Gives the reminder value\n",
    "b = 30\n",
    "c = b % a\n",
    "print(c)"
   ]
  },
  {
   "cell_type": "markdown",
   "id": "d5f9531f-dc33-44e7-b93a-bf4aa5177f86",
   "metadata": {},
   "source": [
    "#### Floor Division ---> //"
   ]
  },
  {
   "cell_type": "code",
   "execution_count": 9,
   "id": "3554794c-1811-4cd3-b890-fd49864b93db",
   "metadata": {},
   "outputs": [
    {
     "name": "stdout",
     "output_type": "stream",
     "text": [
      "3\n"
     ]
    }
   ],
   "source": [
    "# For + divison\n",
    "\n",
    "a= 2  # Gives the quotient value as integer\n",
    "b = 7\n",
    "c = b // a\n",
    "print(c)"
   ]
  },
  {
   "cell_type": "markdown",
   "id": "b91c7231-738f-46e9-b64f-0fa3821328fe",
   "metadata": {},
   "source": [
    "#### For - divison"
   ]
  },
  {
   "cell_type": "code",
   "execution_count": 10,
   "id": "909b7c7d-e377-4ed7-853d-99ccd17596f9",
   "metadata": {},
   "outputs": [
    {
     "name": "stdout",
     "output_type": "stream",
     "text": [
      "-3\n"
     ]
    }
   ],
   "source": [
    "a= 3  # Gives the quotient value as integer\n",
    "b = -7\n",
    "c = b // a\n",
    "print(c)"
   ]
  },
  {
   "cell_type": "markdown",
   "id": "212bbf4c-e3fd-4eca-8393-2da590c83f0c",
   "metadata": {},
   "source": [
    "#### exponent ---> **"
   ]
  },
  {
   "cell_type": "code",
   "execution_count": 11,
   "id": "0dad2347-4c38-4efe-899e-a1cb8d211072",
   "metadata": {},
   "outputs": [
    {
     "name": "stdout",
     "output_type": "stream",
     "text": [
      "8\n"
     ]
    }
   ],
   "source": [
    "a= 2 \n",
    "b = 2\n",
    "c = a**3\n",
    "print(c)"
   ]
  },
  {
   "cell_type": "markdown",
   "id": "5b5c0be4-3f3d-42c9-aa02-860bd61773eb",
   "metadata": {},
   "source": [
    "# Assignment Operators"
   ]
  },
  {
   "cell_type": "code",
   "execution_count": 12,
   "id": "1c4f71eb-1fea-450a-94b0-766ca6fdf42c",
   "metadata": {},
   "outputs": [
    {
     "name": "stdout",
     "output_type": "stream",
     "text": [
      "13\n"
     ]
    }
   ],
   "source": [
    "a = 10\n",
    "b = 13\n",
    "a = b\n",
    "print(a)"
   ]
  },
  {
   "cell_type": "markdown",
   "id": "f7f27a3f-b2a6-4d12-8197-edb7224ed6e3",
   "metadata": {},
   "source": [
    "#### add and assign to left"
   ]
  },
  {
   "cell_type": "code",
   "execution_count": 14,
   "id": "9b2b8c73-1fdd-41b7-8b38-4443e297a6d4",
   "metadata": {},
   "outputs": [
    {
     "name": "stdout",
     "output_type": "stream",
     "text": [
      "50\n"
     ]
    }
   ],
   "source": [
    "a = 10\n",
    "b = 40\n",
    "a += b\n",
    "print(a)"
   ]
  },
  {
   "cell_type": "code",
   "execution_count": 15,
   "id": "9600fb1b-c16c-4603-b5ec-577eeee890fb",
   "metadata": {},
   "outputs": [
    {
     "name": "stdout",
     "output_type": "stream",
     "text": [
      "10\n"
     ]
    }
   ],
   "source": [
    "# if + on right side, it is considered as positive value\n",
    "a = 10\n",
    "a =+ a   # like + 10\n",
    "print(a)"
   ]
  },
  {
   "cell_type": "markdown",
   "id": "58e16ae5-47a1-4b9d-8406-c63248280cef",
   "metadata": {},
   "source": [
    "#### substract and assign to left"
   ]
  },
  {
   "cell_type": "code",
   "execution_count": 16,
   "id": "a09da257-076c-4956-925c-7697003abbd4",
   "metadata": {},
   "outputs": [
    {
     "name": "stdout",
     "output_type": "stream",
     "text": [
      "-10\n"
     ]
    }
   ],
   "source": [
    "a = 10\n",
    "b = 20\n",
    "a -= b\n",
    "print(a)"
   ]
  },
  {
   "cell_type": "markdown",
   "id": "b5104344-3641-49d2-8f7b-8001e70b827a",
   "metadata": {},
   "source": [
    "#### multiply and assign to left"
   ]
  },
  {
   "cell_type": "code",
   "execution_count": 17,
   "id": "7afc2f25-1242-4341-8ab1-b09c63c30808",
   "metadata": {},
   "outputs": [
    {
     "name": "stdout",
     "output_type": "stream",
     "text": [
      "200\n"
     ]
    }
   ],
   "source": [
    "a = 10\n",
    "b = 20\n",
    "a *= b\n",
    "print(a)"
   ]
  },
  {
   "cell_type": "markdown",
   "id": "9746ab86-9a5c-44ca-99a2-52c766b00c70",
   "metadata": {},
   "source": [
    "#### Divide and assign to left"
   ]
  },
  {
   "cell_type": "code",
   "execution_count": 19,
   "id": "20b1326c-be0f-417f-b6b0-26ce1e8c28f8",
   "metadata": {},
   "outputs": [
    {
     "name": "stdout",
     "output_type": "stream",
     "text": [
      "0.3333333333333333\n"
     ]
    }
   ],
   "source": [
    "a = 10\n",
    "b = 30\n",
    "a /= b\n",
    "print(a)"
   ]
  },
  {
   "cell_type": "markdown",
   "id": "541a18c6-ade7-44ab-811d-08d1fba6032d",
   "metadata": {},
   "source": [
    "#### Modular Divide and assign left"
   ]
  },
  {
   "cell_type": "code",
   "execution_count": 22,
   "id": "083753b4-1b41-486d-80d6-9cf7bde99a80",
   "metadata": {},
   "outputs": [
    {
     "name": "stdout",
     "output_type": "stream",
     "text": [
      "1\n"
     ]
    }
   ],
   "source": [
    "a = 13\n",
    "b = 2\n",
    "a %= b\n",
    "print(a)"
   ]
  },
  {
   "cell_type": "markdown",
   "id": "31a7a81f-ca21-4def-a5aa-f3b485e21ffe",
   "metadata": {},
   "source": [
    "#### Floor Divide and assign to left"
   ]
  },
  {
   "cell_type": "code",
   "execution_count": 23,
   "id": "284e5142-dfe2-485b-b1a8-c636536c9662",
   "metadata": {},
   "outputs": [
    {
     "name": "stdout",
     "output_type": "stream",
     "text": [
      "5\n"
     ]
    }
   ],
   "source": [
    "a = 11\n",
    "b = 2\n",
    "a //= b\n",
    "print(a)"
   ]
  },
  {
   "cell_type": "markdown",
   "id": "4d4b2254-18ba-4339-9fba-56d470d018a8",
   "metadata": {},
   "source": [
    "#### Exponent and assign to left"
   ]
  },
  {
   "cell_type": "code",
   "execution_count": 24,
   "id": "827a87e9-4e9d-497c-9b95-d4ee3b1504f2",
   "metadata": {},
   "outputs": [
    {
     "name": "stdout",
     "output_type": "stream",
     "text": [
      "121\n"
     ]
    }
   ],
   "source": [
    "a = 11\n",
    "b = 2\n",
    "a **= b\n",
    "print(a)"
   ]
  },
  {
   "cell_type": "markdown",
   "id": "a0df8d71-0cc6-492c-b6b7-2e87af1d6ac7",
   "metadata": {},
   "source": [
    "# Comparision Operators"
   ]
  },
  {
   "cell_type": "markdown",
   "id": "17f0a7e9-b3aa-4b52-8ce0-2a8457bd4ead",
   "metadata": {},
   "source": [
    "#### To compare equal values"
   ]
  },
  {
   "cell_type": "code",
   "execution_count": 25,
   "id": "c9536c5e-04d7-4e83-a4c1-1865bce02059",
   "metadata": {},
   "outputs": [
    {
     "name": "stdout",
     "output_type": "stream",
     "text": [
      "False\n"
     ]
    }
   ],
   "source": [
    "a = 10\n",
    "b = 11\n",
    "print(a==b)"
   ]
  },
  {
   "cell_type": "markdown",
   "id": "9979addd-c101-4235-8a03-ddbaf1f8fc01",
   "metadata": {},
   "source": [
    "#### To compare unequal values"
   ]
  },
  {
   "cell_type": "code",
   "execution_count": 1,
   "id": "4d583ad1-0185-4f64-a406-3572ead73a09",
   "metadata": {},
   "outputs": [
    {
     "name": "stdout",
     "output_type": "stream",
     "text": [
      "True\n"
     ]
    }
   ],
   "source": [
    "a = 10\n",
    "b = 11\n",
    "print(a!=b)"
   ]
  },
  {
   "cell_type": "markdown",
   "id": "0f0b1b13-129e-41ac-803a-b03b9f083756",
   "metadata": {},
   "source": [
    "#### To check if a is GREATER THAN b"
   ]
  },
  {
   "cell_type": "code",
   "execution_count": 3,
   "id": "3ba31281-a454-4f94-a73b-a6d8374692f5",
   "metadata": {},
   "outputs": [
    {
     "name": "stdout",
     "output_type": "stream",
     "text": [
      "True\n"
     ]
    }
   ],
   "source": [
    "a = 12\n",
    "b = 11\n",
    "print(a>b)\n"
   ]
  },
  {
   "cell_type": "markdown",
   "id": "bf17a3df-ef2a-44c4-beef-f54d19b069b2",
   "metadata": {},
   "source": [
    "#### To check if a is LESS THAN b"
   ]
  },
  {
   "cell_type": "code",
   "execution_count": 5,
   "id": "bd1fa026-782c-48cd-889b-c51281f2fa84",
   "metadata": {},
   "outputs": [
    {
     "name": "stdout",
     "output_type": "stream",
     "text": [
      "False\n"
     ]
    }
   ],
   "source": [
    "a = 10\n",
    "b = 10\n",
    "print(a<b)"
   ]
  },
  {
   "cell_type": "markdown",
   "id": "e3723ea0-63da-4161-adee-cdacb51c3aee",
   "metadata": {},
   "source": [
    "#### To check if a is GREATER THAN or EQUAL b"
   ]
  },
  {
   "cell_type": "code",
   "execution_count": 6,
   "id": "1523adcf-2d78-449a-a18b-86fafdab2647",
   "metadata": {},
   "outputs": [
    {
     "name": "stdout",
     "output_type": "stream",
     "text": [
      "True\n"
     ]
    }
   ],
   "source": [
    "a = 10\n",
    "b = 10\n",
    "print(a>=b)"
   ]
  },
  {
   "cell_type": "markdown",
   "id": "7a15cdfa-bf1e-403e-90d0-34c0348b807f",
   "metadata": {},
   "source": [
    "#### To check if a is LESS THAN or EQUAL b¶"
   ]
  },
  {
   "cell_type": "code",
   "execution_count": 8,
   "id": "6af53f91-2e1c-4ed8-b28a-496dd07c94df",
   "metadata": {},
   "outputs": [
    {
     "name": "stdout",
     "output_type": "stream",
     "text": [
      "False\n"
     ]
    }
   ],
   "source": [
    "a = 11\n",
    "b = 10\n",
    "print(a<=b)"
   ]
  },
  {
   "cell_type": "markdown",
   "id": "140b01d4-d980-4ecb-b873-41971f343729",
   "metadata": {},
   "source": [
    "# Logical Operators"
   ]
  },
  {
   "cell_type": "markdown",
   "id": "00e9c648-9bba-4c8a-a9c6-be3a72b78013",
   "metadata": {},
   "source": [
    "#### and"
   ]
  },
  {
   "cell_type": "code",
   "execution_count": 9,
   "id": "eb7289ad-fd52-4055-a517-642455676df5",
   "metadata": {},
   "outputs": [
    {
     "name": "stdout",
     "output_type": "stream",
     "text": [
      "hi\n"
     ]
    }
   ],
   "source": [
    "a= 10\n",
    "b= 11\n",
    "if a==10 and b==11:  # To check if more than 1 conditions are TRUE\n",
    "    print('hi')"
   ]
  },
  {
   "cell_type": "markdown",
   "id": "5496bdf8-4037-4983-ad7c-7142eadc16cb",
   "metadata": {},
   "source": [
    "#### or"
   ]
  },
  {
   "cell_type": "code",
   "execution_count": 12,
   "id": "88d13b85-31f0-445c-9695-6bf400327d7b",
   "metadata": {},
   "outputs": [
    {
     "name": "stdout",
     "output_type": "stream",
     "text": [
      "hi\n"
     ]
    }
   ],
   "source": [
    "a= 13\n",
    "b= 11\n",
    "if a==10 or b==11:  # To check any conditions are TRUE\n",
    "    print('hi')"
   ]
  },
  {
   "cell_type": "markdown",
   "id": "cc0e6a0f-81d9-4702-b4c8-7589a33bab60",
   "metadata": {},
   "source": [
    "#### not"
   ]
  },
  {
   "cell_type": "code",
   "execution_count": 13,
   "id": "af089da5-95d3-40cf-ab53-65383be4318b",
   "metadata": {},
   "outputs": [
    {
     "name": "stdout",
     "output_type": "stream",
     "text": [
      "hi\n"
     ]
    }
   ],
   "source": [
    "a= 1\n",
    "if not a==10:  # To check if a condition is False, then it is TrUE\n",
    "    print('hi')\n",
    "else:\n",
    "    print('i am here')"
   ]
  },
  {
   "cell_type": "markdown",
   "id": "bf5bbee6-1de8-40b9-a68f-8e86b78a3088",
   "metadata": {},
   "source": [
    "# in"
   ]
  },
  {
   "cell_type": "code",
   "execution_count": 5,
   "id": "b9653f92-c71e-4917-b26c-111cb2b2f4fc",
   "metadata": {},
   "outputs": [
    {
     "name": "stdout",
     "output_type": "stream",
     "text": [
      "hi\n"
     ]
    }
   ],
   "source": [
    "a=5\n",
    "if  a in [1,3,5,6]:\n",
    "    print('hi')\n",
    "else:\n",
    "    print('hello')"
   ]
  },
  {
   "cell_type": "code",
   "execution_count": 7,
   "id": "6b189dff-b237-4a78-bab9-42d68cd57fa6",
   "metadata": {},
   "outputs": [
    {
     "name": "stdout",
     "output_type": "stream",
     "text": [
      "hello\n"
     ]
    }
   ],
   "source": [
    "a=5\n",
    "if  a not in [1,3,5,6]:\n",
    "    print('hi')\n",
    "else:\n",
    "    print('hello')"
   ]
  },
  {
   "cell_type": "markdown",
   "id": "3ebe1f2f-1492-481b-81ed-c2b23766e783",
   "metadata": {},
   "source": [
    "# identity operator"
   ]
  },
  {
   "cell_type": "markdown",
   "id": "1434ef8e-86a8-499b-9cc3-75ea8476b96d",
   "metadata": {},
   "source": [
    "# is"
   ]
  },
  {
   "cell_type": "code",
   "execution_count": 8,
   "id": "6ab73cae-0994-4928-80d7-b0799750c80f",
   "metadata": {},
   "outputs": [
    {
     "name": "stdout",
     "output_type": "stream",
     "text": [
      "anoconda\n"
     ]
    }
   ],
   "source": [
    "a=[10,2,4,56,]    #list element store the different location \n",
    "b=[3,9,50,78,]\n",
    "\n",
    "if a is b:\n",
    "    print('python')\n",
    "else:\n",
    "    print('anoconda')"
   ]
  },
  {
   "cell_type": "code",
   "execution_count": 11,
   "id": "88d56d59-343c-48a4-8f5b-ed5bd427fa51",
   "metadata": {},
   "outputs": [
    {
     "name": "stdout",
     "output_type": "stream",
     "text": [
      "python\n"
     ]
    }
   ],
   "source": [
    "a=3    # number store the same memory\n",
    "b=3\n",
    "\n",
    "if a is b:\n",
    "    print('python')\n",
    "else:\n",
    "    print('anoconda')"
   ]
  },
  {
   "cell_type": "markdown",
   "id": "555eed3c-d241-44c2-9007-1515223173b6",
   "metadata": {},
   "source": [
    "# is not"
   ]
  },
  {
   "cell_type": "code",
   "execution_count": 12,
   "id": "f3e045fa-ce5a-4a0d-bae1-de19b3d414cb",
   "metadata": {},
   "outputs": [
    {
     "name": "stdout",
     "output_type": "stream",
     "text": [
      "1\n"
     ]
    }
   ],
   "source": [
    "a=[1,2,3,4,5]\n",
    "b=[1,2,3,5]\n",
    "if a is not b:\n",
    "    print('1')\n",
    "else:\n",
    "    print('2')"
   ]
  },
  {
   "cell_type": "code",
   "execution_count": null,
   "id": "3b3a7e87-ae78-4edc-8050-f062447a9f57",
   "metadata": {},
   "outputs": [],
   "source": []
  }
 ],
 "metadata": {
  "kernelspec": {
   "display_name": "Python 3 (ipykernel)",
   "language": "python",
   "name": "python3"
  },
  "language_info": {
   "codemirror_mode": {
    "name": "ipython",
    "version": 3
   },
   "file_extension": ".py",
   "mimetype": "text/x-python",
   "name": "python",
   "nbconvert_exporter": "python",
   "pygments_lexer": "ipython3",
   "version": "3.11.2"
  }
 },
 "nbformat": 4,
 "nbformat_minor": 5
}
