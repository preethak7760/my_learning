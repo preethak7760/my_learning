{
 "cells": [
  {
   "cell_type": "markdown",
   "id": "0a1b5f52-2608-46e8-ba2d-a76dff20a051",
   "metadata": {},
   "source": [
    "# Loops"
   ]
  },
  {
   "cell_type": "markdown",
   "id": "1845ce5d-25a3-4a1d-9427-5dbfc1f49bf9",
   "metadata": {},
   "source": [
    "#### for"
   ]
  },
  {
   "cell_type": "code",
   "execution_count": 6,
   "id": "16fd6ac1-82de-4e11-941b-5486b845b05a",
   "metadata": {},
   "outputs": [
    {
     "name": "stdout",
     "output_type": "stream",
     "text": [
      "1\n",
      "2\n",
      "3\n",
      "4.5\n"
     ]
    }
   ],
   "source": [
    "list_example =[1,2,3,4.5]\n",
    "for i in list_example:\n",
    "    print(i)"
   ]
  },
  {
   "cell_type": "markdown",
   "id": "fd036af3-2ee5-4f01-80c1-ec5ccdd47b33",
   "metadata": {},
   "source": [
    "#### whlie"
   ]
  },
  {
   "cell_type": "code",
   "execution_count": 7,
   "id": "f8aae18a-84b9-4ab3-ba05-67b73b79a7a3",
   "metadata": {},
   "outputs": [
    {
     "name": "stdout",
     "output_type": "stream",
     "text": [
      "In loop\n",
      "In loop\n",
      "In loop\n",
      "In loop\n",
      "In loop\n",
      "In loop\n",
      "In loop\n",
      "In loop\n",
      "In loop\n",
      "In loop\n"
     ]
    }
   ],
   "source": [
    "flag = True\n",
    "var = 1\n",
    "while flag:\n",
    "    if var > 10:\n",
    "        flag = False\n",
    "    else:\n",
    "       print('In loop')\n",
    "       var = var + 1"
   ]
  },
  {
   "cell_type": "markdown",
   "id": "631896f2-5611-4c8d-9af2-a25c91367a48",
   "metadata": {},
   "source": [
    "## nested loop"
   ]
  },
  {
   "cell_type": "markdown",
   "id": "1e55f63b-8527-473c-813c-07fa88fb92b1",
   "metadata": {},
   "source": [
    "#### loop inside a loop"
   ]
  },
  {
   "cell_type": "code",
   "execution_count": 8,
   "id": "9ebbfd97-3bb0-4916-acd3-65efe95518f8",
   "metadata": {},
   "outputs": [
    {
     "name": "stdout",
     "output_type": "stream",
     "text": [
      "i= 1\n",
      "j= 1\n",
      "j= 2\n",
      "j= 3\n",
      "j= 4\n",
      "i= 2\n",
      "j= 1\n",
      "j= 2\n",
      "j= 3\n",
      "j= 4\n",
      "i= 3\n",
      "j= 1\n",
      "j= 2\n",
      "j= 3\n",
      "j= 4\n",
      "i= 4\n",
      "j= 1\n",
      "j= 2\n",
      "j= 3\n",
      "j= 4\n"
     ]
    }
   ],
   "source": [
    "list_example1 = [1,2,3,4]\n",
    "list_example2 = [1,2,3,4]\n",
    "for i in list_example1:\n",
    "    print('i=', i)\n",
    "    for j in list_example2:\n",
    "        print('j=', j)"
   ]
  },
  {
   "cell_type": "code",
   "execution_count": null,
   "id": "d387016f-cfe7-4e63-b8de-d8de53010351",
   "metadata": {},
   "outputs": [],
   "source": []
  }
 ],
 "metadata": {
  "kernelspec": {
   "display_name": "Python 3 (ipykernel)",
   "language": "python",
   "name": "python3"
  },
  "language_info": {
   "codemirror_mode": {
    "name": "ipython",
    "version": 3
   },
   "file_extension": ".py",
   "mimetype": "text/x-python",
   "name": "python",
   "nbconvert_exporter": "python",
   "pygments_lexer": "ipython3",
   "version": "3.11.2"
  }
 },
 "nbformat": 4,
 "nbformat_minor": 5
}
