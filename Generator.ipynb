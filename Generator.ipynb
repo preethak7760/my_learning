{
 "cells": [
  {
   "cell_type": "markdown",
   "id": "82205cd3-6f7a-43aa-b075-44291da99ac6",
   "metadata": {},
   "source": [
    "# Definition:\n",
    "\n",
    "#### Generator returns an object that can be iterated one value at a time(i.e helps to create iterator). Yeild helps to remember intermediate results."
   ]
  },
  {
   "cell_type": "markdown",
   "id": "77b6a74e-6c8a-4947-999a-3f08fdcbd0ad",
   "metadata": {},
   "source": [
    "##### Advantages of generator:\n",
    "\n",
    "##### saves memory"
   ]
  },
  {
   "cell_type": "code",
   "execution_count": 1,
   "id": "96945d24-ea22-4bc0-b246-1299d5378d5b",
   "metadata": {},
   "outputs": [
    {
     "name": "stdout",
     "output_type": "stream",
     "text": [
      "<generator object addition at 0x000001337E16A9B0>\n",
      "2\n",
      "3\n",
      "4\n"
     ]
    }
   ],
   "source": [
    "def addition(mylist):\n",
    "    for i in mylist:\n",
    "        yield i + 1    #  Yield avoids loading the results in memory. Whenver, the generatore function, then it loads the result and returns.\n",
    "\n",
    "mylist = [1,2,3]\n",
    "result = addition(mylist)\n",
    "print(result)\n",
    "for j in result:\n",
    "    print(j)"
   ]
  },
  {
   "cell_type": "code",
   "execution_count": null,
   "id": "4c007e66-cbd5-40b5-8708-831ef39a67d5",
   "metadata": {},
   "outputs": [],
   "source": []
  }
 ],
 "metadata": {
  "kernelspec": {
   "display_name": "Python 3 (ipykernel)",
   "language": "python",
   "name": "python3"
  },
  "language_info": {
   "codemirror_mode": {
    "name": "ipython",
    "version": 3
   },
   "file_extension": ".py",
   "mimetype": "text/x-python",
   "name": "python",
   "nbconvert_exporter": "python",
   "pygments_lexer": "ipython3",
   "version": "3.11.2"
  }
 },
 "nbformat": 4,
 "nbformat_minor": 5
}
