{
 "cells": [
  {
   "cell_type": "markdown",
   "id": "3b414952-a907-4c45-b993-bc0afcf5c5ba",
   "metadata": {},
   "source": [
    "# Empty element"
   ]
  },
  {
   "cell_type": "code",
   "execution_count": 1,
   "id": "fb1b83d8-0eb7-4b59-9e11-7273cefab86d",
   "metadata": {},
   "outputs": [
    {
     "name": "stdout",
     "output_type": "stream",
     "text": [
      "<class 'set'>\n"
     ]
    }
   ],
   "source": [
    "empty_set=set()\n",
    "print(type(empty_set))"
   ]
  },
  {
   "cell_type": "markdown",
   "id": "7a251aa6-271f-4bcd-98b1-3b7a5c04a8e4",
   "metadata": {},
   "source": [
    "# Example set"
   ]
  },
  {
   "cell_type": "code",
   "execution_count": 2,
   "id": "515fa3f3-d247-481f-9e63-99122082e842",
   "metadata": {},
   "outputs": [
    {
     "name": "stdout",
     "output_type": "stream",
     "text": [
      "{1, 2, 3, 4, 5}\n"
     ]
    }
   ],
   "source": [
    "example_set={1,2,3,4,5}\n",
    "print(example_set)"
   ]
  },
  {
   "cell_type": "markdown",
   "id": "226a56e0-b91a-4e09-850b-fa5896f9ba15",
   "metadata": {},
   "source": [
    "# duplicate remove"
   ]
  },
  {
   "cell_type": "code",
   "execution_count": 3,
   "id": "e5f37117-5c79-45b4-9a76-194651d90830",
   "metadata": {},
   "outputs": [
    {
     "name": "stdout",
     "output_type": "stream",
     "text": [
      "{1, 2, 3, 4, 5}\n"
     ]
    }
   ],
   "source": [
    "example_set={1,2,3,4,5,5,5}\n",
    "print(example_set)"
   ]
  },
  {
   "cell_type": "markdown",
   "id": "764dd422-9115-4d44-87c1-e529621056ea",
   "metadata": {},
   "source": [
    "# duplicate remove the list in set"
   ]
  },
  {
   "cell_type": "code",
   "execution_count": 4,
   "id": "14d1683f-fce7-4c9a-ae52-b5c2dc084079",
   "metadata": {},
   "outputs": [
    {
     "name": "stdout",
     "output_type": "stream",
     "text": [
      "{1, 2, 3, 4, 5}\n"
     ]
    }
   ],
   "source": [
    "list_item={1,2,3,3,4,5,5}\n",
    "unique_item=set(list_item)\n",
    "print(unique_item)"
   ]
  },
  {
   "cell_type": "markdown",
   "id": "e93cc5a7-f014-44a0-83d9-5d6d44b35dde",
   "metadata": {},
   "source": [
    "# immutable or not? immutable"
   ]
  },
  {
   "cell_type": "code",
   "execution_count": 5,
   "id": "aa0d9872-6c57-44be-b11f-f17a739b13e2",
   "metadata": {},
   "outputs": [
    {
     "ename": "TypeError",
     "evalue": "'set' object does not support item assignment",
     "output_type": "error",
     "traceback": [
      "\u001b[1;31m---------------------------------------------------------------------------\u001b[0m",
      "\u001b[1;31mTypeError\u001b[0m                                 Traceback (most recent call last)",
      "Cell \u001b[1;32mIn[5], line 2\u001b[0m\n\u001b[0;32m      1\u001b[0m exampl_set\u001b[38;5;241m=\u001b[39m{\u001b[38;5;241m1\u001b[39m,\u001b[38;5;241m2\u001b[39m,\u001b[38;5;241m3\u001b[39m,\u001b[38;5;241m4\u001b[39m,\u001b[38;5;241m5\u001b[39m,\u001b[38;5;241m6\u001b[39m}\n\u001b[1;32m----> 2\u001b[0m \u001b[43mexample_set\u001b[49m\u001b[43m[\u001b[49m\u001b[38;5;241;43m2\u001b[39;49m\u001b[43m]\u001b[49m\u001b[38;5;241m=\u001b[39m\u001b[38;5;241m10\u001b[39m\n\u001b[0;32m      3\u001b[0m \u001b[38;5;28mprint\u001b[39m(example_set)\n",
      "\u001b[1;31mTypeError\u001b[0m: 'set' object does not support item assignment"
     ]
    }
   ],
   "source": [
    "exampl_set={1,2,3,4,5,6}\n",
    "example_set[2]=10\n",
    "print(example_set)"
   ]
  },
  {
   "cell_type": "markdown",
   "id": "19c6c9ed-6cf6-4ef3-a442-07a68f55eac1",
   "metadata": {},
   "source": [
    "# ordered un ordered? unordered"
   ]
  },
  {
   "cell_type": "markdown",
   "id": "aaf5671f-dfad-40bc-abbb-dad5ebe6d622",
   "metadata": {},
   "source": [
    "example_set={1,2,3,4,5,6}\n",
    "print(example_set[0])"
   ]
  },
  {
   "cell_type": "markdown",
   "id": "6859c6a2-5c6f-4d9f-9e9f-c2e8a6e8c02b",
   "metadata": {},
   "source": [
    "# iterable or not?  iterable"
   ]
  },
  {
   "cell_type": "code",
   "execution_count": 7,
   "id": "b47a96a9-969d-45a1-b98a-580ea8494d3b",
   "metadata": {},
   "outputs": [
    {
     "name": "stdout",
     "output_type": "stream",
     "text": [
      "1\n",
      "2\n",
      "3\n",
      "4\n",
      "5\n",
      "6\n"
     ]
    }
   ],
   "source": [
    "example_set={1,2,3,4,5,6}\n",
    "for i in example_set:\n",
    " print(i)"
   ]
  },
  {
   "cell_type": "markdown",
   "id": "8872f1e6-b0d9-4001-8f28-92b8810c17a5",
   "metadata": {},
   "source": [
    "# add"
   ]
  },
  {
   "cell_type": "code",
   "execution_count": 8,
   "id": "d6bec19d-7485-489b-a69c-496d55b8d395",
   "metadata": {},
   "outputs": [
    {
     "name": "stdout",
     "output_type": "stream",
     "text": [
      "{1, 2, 3, 4, 5, 6, 7}\n"
     ]
    }
   ],
   "source": [
    "example_set={1,2,3,4,5,6}\n",
    "example_set.add(7)\n",
    "print(example_set)"
   ]
  },
  {
   "cell_type": "markdown",
   "id": "22972b6b-3383-4f3a-ad70-ef83f747bbcc",
   "metadata": {},
   "source": [
    "# how to element in the list"
   ]
  },
  {
   "cell_type": "markdown",
   "id": "bdd6cbf8-0b5a-4439-a989-30d9d60df216",
   "metadata": {},
   "source": [
    "example_set={1,2,3,4,5,6}\n",
    "example_set.remove(5)\n",
    "example_set.remove(6)\n",
    "print(example_set)"
   ]
  },
  {
   "cell_type": "markdown",
   "id": "63f75714-640c-4e9b-8dcf-31abccc35283",
   "metadata": {},
   "source": [
    "# union"
   ]
  },
  {
   "cell_type": "code",
   "execution_count": 10,
   "id": "ea9a1129-e059-4b99-89d7-7add1d720e7f",
   "metadata": {},
   "outputs": [
    {
     "name": "stdout",
     "output_type": "stream",
     "text": [
      "{1, 2, 3, 4, 5, 6, 7, 8}\n"
     ]
    }
   ],
   "source": [
    "example_set1={1,2,3,4,5,6}\n",
    "example_set2={1,2,3,4,7,8}\n",
    "union_set=example_set1.union(example_set2)\n",
    "print(union_set)"
   ]
  },
  {
   "cell_type": "markdown",
   "id": "abff556a-9f7c-458c-9e9c-8314216df31a",
   "metadata": {},
   "source": [
    "# intersection"
   ]
  },
  {
   "cell_type": "code",
   "execution_count": 11,
   "id": "247b4ffa-0c43-42a9-ae3c-2e0a55e0897e",
   "metadata": {},
   "outputs": [
    {
     "name": "stdout",
     "output_type": "stream",
     "text": [
      "{1, 2, 3}\n"
     ]
    }
   ],
   "source": [
    "example_set1={1,2,3,5}\n",
    "example_set2={1,2,3,4,6}\n",
    "union_set=example_set1.intersection(example_set2)\n",
    "print(union_set)"
   ]
  },
  {
   "cell_type": "markdown",
   "id": "12559202-3ec8-470c-a061-d2c7653f37fe",
   "metadata": {},
   "source": [
    "# pop"
   ]
  },
  {
   "cell_type": "code",
   "execution_count": 12,
   "id": "c5eb1e03-b14b-47a4-ac9b-89cf35fb22ba",
   "metadata": {},
   "outputs": [
    {
     "name": "stdout",
     "output_type": "stream",
     "text": [
      "1\n"
     ]
    }
   ],
   "source": [
    "example_set={1,2,3,4,5}\n",
    "print(example_set.pop())"
   ]
  },
  {
   "cell_type": "code",
   "execution_count": null,
   "id": "358beabc-5205-4435-b381-0738d68f49d1",
   "metadata": {},
   "outputs": [],
   "source": []
  }
 ],
 "metadata": {
  "kernelspec": {
   "display_name": "Python 3 (ipykernel)",
   "language": "python",
   "name": "python3"
  },
  "language_info": {
   "codemirror_mode": {
    "name": "ipython",
    "version": 3
   },
   "file_extension": ".py",
   "mimetype": "text/x-python",
   "name": "python",
   "nbconvert_exporter": "python",
   "pygments_lexer": "ipython3",
   "version": "3.11.2"
  }
 },
 "nbformat": 4,
 "nbformat_minor": 5
}
