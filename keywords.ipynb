{
 "cells": [
  {
   "cell_type": "markdown",
   "id": "ba7db12e-2f7b-4638-a2d8-c913e4a042e7",
   "metadata": {},
   "source": [
    "# and"
   ]
  },
  {
   "cell_type": "code",
   "execution_count": 1,
   "id": "3b013a20-6c52-4383-a1f6-864d1b951d3e",
   "metadata": {},
   "outputs": [
    {
     "name": "stdout",
     "output_type": "stream",
     "text": [
      "you are eligible for a student  discount.\n"
     ]
    }
   ],
   "source": [
    "age=18  \n",
    "is_student =True\n",
    "if age<= 25 and is_student:\n",
    " print(\"you are eligible for a student  discount.\")\n",
    "else:\n",
    " print(\"you are not eligible for a student  discount\")"
   ]
  },
  {
   "cell_type": "markdown",
   "id": "903733ba-2ed4-451f-9e89-add7ba129a13",
   "metadata": {},
   "source": [
    "# or"
   ]
  },
  {
   "cell_type": "code",
   "execution_count": 2,
   "id": "997b792a-4793-4c2a-acf5-4b19beeb3617",
   "metadata": {},
   "outputs": [
    {
     "name": "stdout",
     "output_type": "stream",
     "text": [
      "it's good day to stay indoor.\n"
     ]
    }
   ],
   "source": [
    "temperature=28\n",
    "is_raining=True\n",
    "if temperature>=30 or is_raining:\n",
    " print(\"it's good day to stay indoor.\")\n",
    "else:\n",
    " print(\"let's good day outside and enjay the day\")"
   ]
  },
  {
   "cell_type": "markdown",
   "id": "271add56-a54a-4c25-b3b2-b281286014a3",
   "metadata": {},
   "source": [
    "# assert"
   ]
  },
  {
   "cell_type": "code",
   "execution_count": 3,
   "id": "1e8e11dd-0f29-4a6f-b1ef-feed283ef2a0",
   "metadata": {},
   "outputs": [
    {
     "name": "stdout",
     "output_type": "stream",
     "text": [
      "assertion is successful\n"
     ]
    },
    {
     "ename": "AssertionError",
     "evalue": " c is not equal to 10",
     "output_type": "error",
     "traceback": [
      "\u001b[1;31m---------------------------------------------------------------------------\u001b[0m",
      "\u001b[1;31mAssertionError\u001b[0m                            Traceback (most recent call last)",
      "Cell \u001b[1;32mIn[3], line 6\u001b[0m\n\u001b[0;32m      4\u001b[0m  \u001b[38;5;66;03m# c to c is not equal  ,so assert error\u001b[39;00m\n\u001b[0;32m      5\u001b[0m c\u001b[38;5;241m=\u001b[39m\u001b[38;5;241m5\u001b[39m\n\u001b[1;32m----> 6\u001b[0m \u001b[38;5;28;01massert\u001b[39;00m c\u001b[38;5;241m==\u001b[39m\u001b[38;5;241m10\u001b[39m, \u001b[38;5;124m'\u001b[39m\u001b[38;5;124m c is not equal to 10\u001b[39m\u001b[38;5;124m'\u001b[39m\n\u001b[0;32m      7\u001b[0m \u001b[38;5;28mprint\u001b[39m(c)\n",
      "\u001b[1;31mAssertionError\u001b[0m:  c is not equal to 10"
     ]
    }
   ],
   "source": [
    "a=110\n",
    "assert a==110\n",
    "print('assertion is successful')\n",
    " # c to c is not equal  ,so assert error\n",
    "c=5\n",
    "assert c==10, ' c is not equal to 10'\n",
    "print(c)\n"
   ]
  },
  {
   "cell_type": "markdown",
   "id": "7d303d00-0940-4752-8126-acd413280ef8",
   "metadata": {},
   "source": [
    "# not"
   ]
  },
  {
   "cell_type": "code",
   "execution_count": 4,
   "id": "d8e2d2f6-a96c-4efd-a0bb-1ddd6e61742b",
   "metadata": {},
   "outputs": [
    {
     "name": "stdout",
     "output_type": "stream",
     "text": [
      "iam inside else condition\n"
     ]
    }
   ],
   "source": [
    "flag=True\n",
    "if not flag:\n",
    " print(\"iam inside if condition\")\n",
    "else:\n",
    " print(\"iam inside else condition\")"
   ]
  },
  {
   "cell_type": "markdown",
   "id": "a731853a-c30c-4ae4-ba93-aabf39b5cad7",
   "metadata": {},
   "source": [
    "# break"
   ]
  },
  {
   "cell_type": "code",
   "execution_count": 5,
   "id": "277d10df-91db-4f79-9df5-1c19d2546697",
   "metadata": {},
   "outputs": [
    {
     "name": "stdout",
     "output_type": "stream",
     "text": [
      "praveena\n",
      "saranya\n",
      "The control is here now\n"
     ]
    }
   ],
   "source": [
    "sample_list=['praveena','saranya','sivarajani','mari']\n",
    "for i in sample_list:\n",
    "    print(i)\n",
    "    if i =='saranya':\n",
    "     break\n",
    "print('The control is here now')"
   ]
  },
  {
   "cell_type": "markdown",
   "id": "247d0c19-5e20-4a6f-b0ec-8114c56b0ae6",
   "metadata": {},
   "source": [
    "# continue"
   ]
  },
  {
   "cell_type": "code",
   "execution_count": 8,
   "id": "e0897970-11fe-4d2a-9b46-df47ba23a72a",
   "metadata": {},
   "outputs": [
    {
     "name": "stdout",
     "output_type": "stream",
     "text": [
      "praveena\n",
      "sivaranjani\n"
     ]
    }
   ],
   "source": [
    "sample_list1=['praveena','saranya','sivaranjani']\n",
    "for i in sample_list1:\n",
    "   if i =='saranya':\n",
    "     continue\n",
    "   print(i)"
   ]
  },
  {
   "cell_type": "markdown",
   "id": "99625fb2-a3ea-43a1-afcb-dec127391b0d",
   "metadata": {},
   "source": [
    "# sample"
   ]
  },
  {
   "cell_type": "code",
   "execution_count": 9,
   "id": "471ed8e7-7623-426b-a91f-c06296139f0e",
   "metadata": {},
   "outputs": [
    {
     "name": "stdout",
     "output_type": "stream",
     "text": [
      "sivaranjani\n",
      "preetha\n"
     ]
    }
   ],
   "source": [
    "sample_list2 = ['sivaranjani','praveena', 'preetha']\n",
    "for i in sample_list2:\n",
    "    if i == 'praveena': \n",
    "        continue # continou the loop instead of going below\n",
    "    print(i)"
   ]
  },
  {
   "cell_type": "markdown",
   "id": "56b99369-e58c-40bd-9920-10d8f6d1f299",
   "metadata": {},
   "source": [
    "# pass"
   ]
  },
  {
   "cell_type": "code",
   "execution_count": 10,
   "id": "7ae35ad2-0517-4ad7-a86d-3a51365f90d9",
   "metadata": {},
   "outputs": [],
   "source": [
    "class calculator():\n",
    " def add(a,b):\n",
    "   return(a+b)\n",
    " def subsract(a,b):\n",
    "    return(a-b)\n",
    "pass"
   ]
  },
  {
   "cell_type": "markdown",
   "id": "8547418e-90f8-40ac-b90d-fe23147eb4d8",
   "metadata": {},
   "source": [
    "# class"
   ]
  },
  {
   "cell_type": "code",
   "execution_count": 11,
   "id": "92033823-e7a3-437e-94f4-efb918142825",
   "metadata": {},
   "outputs": [],
   "source": [
    "#bulueprint for creating objects"
   ]
  },
  {
   "cell_type": "code",
   "execution_count": 12,
   "id": "eaadc9ca-a6a2-4933-b815-93332dda2006",
   "metadata": {},
   "outputs": [
    {
     "name": "stdout",
     "output_type": "stream",
     "text": [
      "20.0\n",
      "<class 'float'>\n"
     ]
    }
   ],
   "source": [
    "class calculator():\n",
    "    def add(a,b):\n",
    "     return(a+b)\n",
    "    def substract(a,b):\n",
    "     return(a-b)\n",
    "    def multiplicat(a,b):\n",
    "     return(a*b)\n",
    "    def division(a,b):\n",
    "     return(a/b)\n",
    "obj=calculator.division(100,5)\n",
    "print(obj)\n",
    "print(type(obj))"
   ]
  },
  {
   "cell_type": "markdown",
   "id": "84cbb102-3a6c-490f-aca9-a1e255fc6a05",
   "metadata": {},
   "source": [
    "# def"
   ]
  },
  {
   "cell_type": "code",
   "execution_count": 14,
   "id": "07002541-ded1-4d06-90b8-ab860d5f42b1",
   "metadata": {},
   "outputs": [
    {
     "name": "stdout",
     "output_type": "stream",
     "text": [
      "39\n",
      "<class 'int'>\n"
     ]
    }
   ],
   "source": [
    "# functions\n",
    "def add(a,b):\n",
    "   return a+b\n",
    "c=add(19,20)\n",
    "print(c)\n",
    "print(type(c))\n"
   ]
  },
  {
   "cell_type": "markdown",
   "id": "1e18882f-616c-44dc-9c2f-deb6e996c238",
   "metadata": {},
   "source": [
    "# del"
   ]
  },
  {
   "cell_type": "code",
   "execution_count": 15,
   "id": "07e7a54a-98c2-4df2-b96a-049b85d032a9",
   "metadata": {},
   "outputs": [
    {
     "name": "stdout",
     "output_type": "stream",
     "text": [
      "before deletion [1, 2, 3, 4, 6, 7]\n"
     ]
    },
    {
     "ename": "NameError",
     "evalue": "name 'list1' is not defined",
     "output_type": "error",
     "traceback": [
      "\u001b[1;31m---------------------------------------------------------------------------\u001b[0m",
      "\u001b[1;31mNameError\u001b[0m                                 Traceback (most recent call last)",
      "Cell \u001b[1;32mIn[15], line 4\u001b[0m\n\u001b[0;32m      2\u001b[0m \u001b[38;5;28mprint\u001b[39m(\u001b[38;5;124m'\u001b[39m\u001b[38;5;124mbefore deletion\u001b[39m\u001b[38;5;124m'\u001b[39m,list1)\n\u001b[0;32m      3\u001b[0m \u001b[38;5;28;01mdel\u001b[39;00m list1 \n\u001b[1;32m----> 4\u001b[0m \u001b[38;5;28mprint\u001b[39m(\u001b[43mlist1\u001b[49m)\n",
      "\u001b[1;31mNameError\u001b[0m: name 'list1' is not defined"
     ]
    }
   ],
   "source": [
    "list1=[1,2,3,4,6,7]\n",
    "print('before deletion',list1)\n",
    "del list1 \n",
    "print(list1)"
   ]
  },
  {
   "cell_type": "markdown",
   "id": "7d298d9b-4d55-4711-bf16-3d69eeaea3f7",
   "metadata": {},
   "source": [
    "# if"
   ]
  },
  {
   "cell_type": "code",
   "execution_count": 16,
   "id": "7ccd2b93-5bb3-4744-be8b-f193f6f65939",
   "metadata": {},
   "outputs": [
    {
     "name": "stdout",
     "output_type": "stream",
     "text": [
      "c is 10\n"
     ]
    }
   ],
   "source": [
    "c=10\n",
    "if c==10:\n",
    " print('c is 10')\n",
    "else:\n",
    " print('c is not 10')"
   ]
  },
  {
   "cell_type": "code",
   "execution_count": 18,
   "id": "e3bf9060-cac6-4aaf-ad45-2eb730796d86",
   "metadata": {},
   "outputs": [
    {
     "name": "stdout",
     "output_type": "stream",
     "text": [
      "c is not 70\n"
     ]
    }
   ],
   "source": [
    "# same example\n",
    "c=70\n",
    "if c==20:\n",
    " print('c is 70')\n",
    "else:\n",
    " print('c is not 70')"
   ]
  },
  {
   "cell_type": "markdown",
   "id": "46dc7d84-33c9-4ff2-992b-ddbc0ef7fef7",
   "metadata": {},
   "source": [
    "# elif"
   ]
  },
  {
   "cell_type": "code",
   "execution_count": 26,
   "id": "e8bfd55f-2d00-4bbc-a70f-3deb1ad191cc",
   "metadata": {},
   "outputs": [
    {
     "name": "stdout",
     "output_type": "stream",
     "text": [
      " a is 10\n"
     ]
    }
   ],
   "source": [
    " a=10\n",
    " if a==10:\n",
    "     print(' a is 10')\n",
    " elif a==9:\n",
    "    print('a is 5')\n",
    "else:\n",
    "    print( 'a is not 10')\n",
    "\n"
   ]
  },
  {
   "cell_type": "code",
   "execution_count": 27,
   "id": "2e5d608d-69b4-4252-b5e8-2beb181bdd9c",
   "metadata": {},
   "outputs": [
    {
     "name": "stdout",
     "output_type": "stream",
     "text": [
      "can not divide by zero\n"
     ]
    }
   ],
   "source": [
    "# To handle errors\n",
    "a = 0\n",
    "try: \n",
    "    c = 10/a  # example open file here\n",
    "except:\n",
    "    print('can not divide by zero')  # print the error when file is not read successfully\n",
    "finally:\n",
    "    pass  # example close the file once read"
   ]
  },
  {
   "cell_type": "markdown",
   "id": "b5b03774-5f1a-47eb-bb96-d2e43c06032a",
   "metadata": {},
   "source": [
    "# form"
   ]
  },
  {
   "cell_type": "code",
   "execution_count": 28,
   "id": "0ebac5ca-10cb-4299-8b9d-e6cf2e49cbd0",
   "metadata": {},
   "outputs": [
    {
     "name": "stdout",
     "output_type": "stream",
     "text": [
      "affter sleeping iam here\n"
     ]
    }
   ],
   "source": [
    "# with from\n",
    "from time import sleep    # take only sleep function from time.py\n",
    "sleep(5)\n",
    "print('affter sleeping iam here')"
   ]
  },
  {
   "cell_type": "code",
   "execution_count": 29,
   "id": "ad1444b4-1158-478d-8e51-36f880976c2c",
   "metadata": {},
   "outputs": [
    {
     "name": "stdout",
     "output_type": "stream",
     "text": [
      "after sleeping iam here\n"
     ]
    }
   ],
   "source": [
    "# without  from\n",
    "import time                      # take all functions from time.py\n",
    "time.sleep(5)\n",
    "print('after sleeping iam here')"
   ]
  },
  {
   "cell_type": "markdown",
   "id": "fe3b58af-74f4-4043-9bea-f5a1811e419a",
   "metadata": {},
   "source": [
    "# exec"
   ]
  },
  {
   "cell_type": "code",
   "execution_count": 30,
   "id": "8491649b-a70b-4c4c-b2bd-bbf939e2c558",
   "metadata": {},
   "outputs": [
    {
     "name": "stdout",
     "output_type": "stream",
     "text": [
      " my name\n"
     ]
    }
   ],
   "source": [
    "# when a python code is a string\n",
    "code_to_execute=\"print (' my name')\"\n",
    "exec(code_to_execute)"
   ]
  },
  {
   "cell_type": "markdown",
   "id": "e93b7390-392b-47ce-8954-289b79c030da",
   "metadata": {},
   "source": [
    "# global"
   ]
  },
  {
   "cell_type": "code",
   "execution_count": 31,
   "id": "c52d6d37-ec71-4c4d-b060-4532ca8636f9",
   "metadata": {},
   "outputs": [
    {
     "name": "stdout",
     "output_type": "stream",
     "text": [
      "18\n"
     ]
    }
   ],
   "source": [
    "a=5\n",
    "def printer():\n",
    "    global a    # Convert a local variable to global variable\n",
    "    a=18\n",
    "printer()\n",
    "print(a)"
   ]
  },
  {
   "cell_type": "code",
   "execution_count": 32,
   "id": "c0c3a60f-3805-4999-b681-d72410c283be",
   "metadata": {},
   "outputs": [
    {
     "name": "stdout",
     "output_type": "stream",
     "text": [
      "20\n"
     ]
    }
   ],
   "source": [
    "a=10\n",
    "a=20\n",
    "print(a)"
   ]
  },
  {
   "cell_type": "markdown",
   "id": "efc5d1a8-976c-4d36-ae48-6f5b396c6240",
   "metadata": {},
   "source": [
    "# for"
   ]
  },
  {
   "cell_type": "code",
   "execution_count": 33,
   "id": "8486f9f3-98ea-4bbb-9116-0e4fc376fef5",
   "metadata": {},
   "outputs": [
    {
     "name": "stdout",
     "output_type": "stream",
     "text": [
      "p\n",
      "r\n",
      "a\n",
      "v\n",
      "e\n",
      "e\n",
      "n\n"
     ]
    }
   ],
   "source": [
    "for i in 'praveen':      #  to iterable\n",
    "    print(i)"
   ]
  },
  {
   "cell_type": "markdown",
   "id": "56edf181-60b8-42ae-8d8c-eb4ec97a55d1",
   "metadata": {},
   "source": [
    "# import"
   ]
  },
  {
   "cell_type": "code",
   "execution_count": 34,
   "id": "d976c399-1050-4fdc-a521-62153369c07c",
   "metadata": {},
   "outputs": [],
   "source": [
    "import time # .py\n",
    "from time import sleep # class, function, variable"
   ]
  },
  {
   "cell_type": "markdown",
   "id": "40dccbff-4afc-4bbd-821c-aaafd8a65eac",
   "metadata": {},
   "source": [
    "# in"
   ]
  },
  {
   "cell_type": "code",
   "execution_count": 35,
   "id": "48c154c2-5032-4f2c-b377-a73667a9b235",
   "metadata": {},
   "outputs": [
    {
     "name": "stdout",
     "output_type": "stream",
     "text": [
      "True\n",
      "False\n",
      "<class 'bool'>\n"
     ]
    }
   ],
   "source": [
    "a= 'preetha'\n",
    "b='aarthi'\n",
    "name_list=['preetha','kumari','ajay','manimekalai','saranya']\n",
    "print(a in name_list)\n",
    "print(b in name_list)\n",
    "print(type(a in name_list))"
   ]
  },
  {
   "cell_type": "markdown",
   "id": "e1375b4d-8f6a-4118-b0ab-229057aadb3c",
   "metadata": {},
   "source": [
    "# is"
   ]
  },
  {
   "cell_type": "code",
   "execution_count": 36,
   "id": "eb2a64e0-d670-4c88-ae15-311113f40bad",
   "metadata": {},
   "outputs": [
    {
     "name": "stdout",
     "output_type": "stream",
     "text": [
      "True\n",
      "2444881555440\n",
      "2444881555440\n",
      "<class 'bool'>\n",
      "True\n"
     ]
    }
   ],
   "source": [
    "a='praveen'\n",
    "b='praveen'\n",
    "z=a\n",
    "print(a is b)\n",
    "print(id(a))\n",
    "print(id(b))\n",
    "print(type(a is b))\n",
    "print(( z is b))"
   ]
  },
  {
   "cell_type": "markdown",
   "id": "9073ff9c-28d7-4c86-bbae-278c81cf5121",
   "metadata": {},
   "source": [
    "# for immutable object"
   ]
  },
  {
   "cell_type": "code",
   "execution_count": 37,
   "id": "eae0dba9-4c71-49bf-a0ff-97630beca7c3",
   "metadata": {},
   "outputs": [
    {
     "name": "stdout",
     "output_type": "stream",
     "text": [
      "True\n",
      "False\n"
     ]
    }
   ],
   "source": [
    "x = [1, 2, 3]\n",
    "y = x  # Both x and y reference the same list object\n",
    "\n",
    "z = [1, 2, 3]  # A new list object with the same values as x\n",
    "\n",
    "print(x is y)  # Output: True, x and y reference the same object\n",
    "print(x is z)  # Output: False, x and z are different objects in memory\n",
    "\n"
   ]
  },
  {
   "cell_type": "code",
   "execution_count": 38,
   "id": "ee7b2755-70b2-4c5b-bef1-e47207a25554",
   "metadata": {},
   "outputs": [
    {
     "name": "stdout",
     "output_type": "stream",
     "text": [
      "2444881638400\n",
      "2444881638400\n",
      "2444853571840\n"
     ]
    }
   ],
   "source": [
    "print(id(x))\n",
    "print(id(y))\n",
    "print(id(z))"
   ]
  },
  {
   "cell_type": "markdown",
   "id": "f2761959-b99a-45a9-99b6-50e099efbf47",
   "metadata": {},
   "source": [
    "# lambda"
   ]
  },
  {
   "cell_type": "code",
   "execution_count": null,
   "id": "56fe9d08-3532-40b4-82da-044503f82878",
   "metadata": {},
   "outputs": [],
   "source": [
    "# inline lambda"
   ]
  },
  {
   "cell_type": "markdown",
   "id": "99604114-b630-4846-b087-a30af7219887",
   "metadata": {},
   "source": [
    "result=tuple(map(lambda x: x-1 ,[1,2,4,5]))\n",
    "print(result)"
   ]
  },
  {
   "cell_type": "markdown",
   "id": "c6639c27-e91d-4c38-98ae-d77bfb967b41",
   "metadata": {},
   "source": [
    "# print"
   ]
  },
  {
   "cell_type": "code",
   "execution_count": 40,
   "id": "d9630a14-4b5e-4d73-9065-b0c267bab1f4",
   "metadata": {},
   "outputs": [
    {
     "name": "stdout",
     "output_type": "stream",
     "text": [
      "praveen\n"
     ]
    }
   ],
   "source": [
    "print('praveena')"
   ]
  },
  {
   "cell_type": "markdown",
   "id": "cb6f10d9-29d9-46eb-a8db-70fe538187a4",
   "metadata": {},
   "source": [
    "# raise"
   ]
  },
  {
   "cell_type": "code",
   "execution_count": 41,
   "id": "6c0c86ed-fbce-47f5-a56e-a16bbc973be7",
   "metadata": {},
   "outputs": [
    {
     "ename": "ValueError",
     "evalue": " no output",
     "output_type": "error",
     "traceback": [
      "\u001b[1;31m---------------------------------------------------------------------------\u001b[0m",
      "\u001b[1;31mValueError\u001b[0m                                Traceback (most recent call last)",
      "Cell \u001b[1;32mIn[41], line 1\u001b[0m\n\u001b[1;32m----> 1\u001b[0m \u001b[38;5;28;01mraise\u001b[39;00m \u001b[38;5;167;01mValueError\u001b[39;00m(\u001b[38;5;124m'\u001b[39m\u001b[38;5;124m no output\u001b[39m\u001b[38;5;124m'\u001b[39m)\n",
      "\u001b[1;31mValueError\u001b[0m:  no output"
     ]
    }
   ],
   "source": [
    "raise ValueError(' no output')"
   ]
  },
  {
   "cell_type": "markdown",
   "id": "dd450130-86dc-4729-8adc-c9b60cd60e27",
   "metadata": {},
   "source": [
    "# return"
   ]
  },
  {
   "cell_type": "code",
   "execution_count": 42,
   "id": "3699efb3-0ed6-4bf6-a281-d4d0d66f86ca",
   "metadata": {},
   "outputs": [
    {
     "name": "stdout",
     "output_type": "stream",
     "text": [
      "2\n"
     ]
    }
   ],
   "source": [
    "\n",
    "def addition(a,b):\n",
    "    c=(a+b)\n",
    "    return c\n",
    "\n",
    "print(addition(1,1))"
   ]
  },
  {
   "cell_type": "code",
   "execution_count": null,
   "id": "f80b424d-1cc6-4281-a7ac-028f7c088471",
   "metadata": {},
   "outputs": [],
   "source": [
    "# global is for variable name\n",
    "# return is for function result(value)"
   ]
  },
  {
   "cell_type": "markdown",
   "id": "9b4c9b7c-041e-4247-8dda-8c50e35fd8e7",
   "metadata": {},
   "source": [
    "# while"
   ]
  },
  {
   "cell_type": "code",
   "execution_count": 44,
   "id": "01f1f32f-7176-40f4-8d4f-cbe5e1daab09",
   "metadata": {},
   "outputs": [
    {
     "name": "stdout",
     "output_type": "stream",
     "text": [
      "welcome hello world\n",
      "welcome hello world\n"
     ]
    }
   ],
   "source": [
    "a=10\n",
    "while a>0:\n",
    "  print('welcome hello world')\n",
    "  a=a-5\n"
   ]
  },
  {
   "cell_type": "markdown",
   "id": "7bfbebb2-290d-4b4b-97c1-c880609b282e",
   "metadata": {},
   "source": [
    "# with"
   ]
  },
  {
   "cell_type": "code",
   "execution_count": 45,
   "id": "93843a13-a445-41fd-b1a2-01e2fd9a84cb",
   "metadata": {},
   "outputs": [
    {
     "ename": "FileNotFoundError",
     "evalue": "[Errno 2] No such file or directory: 'myfile.txt'",
     "output_type": "error",
     "traceback": [
      "\u001b[1;31m---------------------------------------------------------------------------\u001b[0m",
      "\u001b[1;31mFileNotFoundError\u001b[0m                         Traceback (most recent call last)",
      "Cell \u001b[1;32mIn[45], line 2\u001b[0m\n\u001b[0;32m      1\u001b[0m \u001b[38;5;66;03m# Using 'with' to automatically close a file after reading\u001b[39;00m\n\u001b[1;32m----> 2\u001b[0m \u001b[38;5;28;01mwith\u001b[39;00m \u001b[38;5;28;43mopen\u001b[39;49m\u001b[43m(\u001b[49m\u001b[38;5;124;43m\"\u001b[39;49m\u001b[38;5;124;43mmyfile.txt\u001b[39;49m\u001b[38;5;124;43m\"\u001b[39;49m\u001b[43m,\u001b[49m\u001b[43m \u001b[49m\u001b[38;5;124;43m\"\u001b[39;49m\u001b[38;5;124;43mr\u001b[39;49m\u001b[38;5;124;43m\"\u001b[39;49m\u001b[43m)\u001b[49m \u001b[38;5;28;01mas\u001b[39;00m file:\n\u001b[0;32m      3\u001b[0m     content \u001b[38;5;241m=\u001b[39m file\u001b[38;5;241m.\u001b[39mread()\n\u001b[0;32m      4\u001b[0m     \u001b[38;5;66;03m# Perform operations on 'content'\u001b[39;00m\n\u001b[0;32m      5\u001b[0m \n\u001b[0;32m      6\u001b[0m \u001b[38;5;66;03m# 'file' is automatically closed outside the 'with' block\u001b[39;00m\n",
      "File \u001b[1;32m~\\AppData\\Local\\Programs\\Python\\Python311\\Lib\\site-packages\\IPython\\core\\interactiveshell.py:284\u001b[0m, in \u001b[0;36m_modified_open\u001b[1;34m(file, *args, **kwargs)\u001b[0m\n\u001b[0;32m    277\u001b[0m \u001b[38;5;28;01mif\u001b[39;00m file \u001b[38;5;129;01min\u001b[39;00m {\u001b[38;5;241m0\u001b[39m, \u001b[38;5;241m1\u001b[39m, \u001b[38;5;241m2\u001b[39m}:\n\u001b[0;32m    278\u001b[0m     \u001b[38;5;28;01mraise\u001b[39;00m \u001b[38;5;167;01mValueError\u001b[39;00m(\n\u001b[0;32m    279\u001b[0m         \u001b[38;5;124mf\u001b[39m\u001b[38;5;124m\"\u001b[39m\u001b[38;5;124mIPython won\u001b[39m\u001b[38;5;124m'\u001b[39m\u001b[38;5;124mt let you open fd=\u001b[39m\u001b[38;5;132;01m{\u001b[39;00mfile\u001b[38;5;132;01m}\u001b[39;00m\u001b[38;5;124m by default \u001b[39m\u001b[38;5;124m\"\u001b[39m\n\u001b[0;32m    280\u001b[0m         \u001b[38;5;124m\"\u001b[39m\u001b[38;5;124mas it is likely to crash IPython. If you know what you are doing, \u001b[39m\u001b[38;5;124m\"\u001b[39m\n\u001b[0;32m    281\u001b[0m         \u001b[38;5;124m\"\u001b[39m\u001b[38;5;124myou can use builtins\u001b[39m\u001b[38;5;124m'\u001b[39m\u001b[38;5;124m open.\u001b[39m\u001b[38;5;124m\"\u001b[39m\n\u001b[0;32m    282\u001b[0m     )\n\u001b[1;32m--> 284\u001b[0m \u001b[38;5;28;01mreturn\u001b[39;00m \u001b[43mio_open\u001b[49m\u001b[43m(\u001b[49m\u001b[43mfile\u001b[49m\u001b[43m,\u001b[49m\u001b[43m \u001b[49m\u001b[38;5;241;43m*\u001b[39;49m\u001b[43margs\u001b[49m\u001b[43m,\u001b[49m\u001b[43m \u001b[49m\u001b[38;5;241;43m*\u001b[39;49m\u001b[38;5;241;43m*\u001b[39;49m\u001b[43mkwargs\u001b[49m\u001b[43m)\u001b[49m\n",
      "\u001b[1;31mFileNotFoundError\u001b[0m: [Errno 2] No such file or directory: 'myfile.txt'"
     ]
    }
   ],
   "source": [
    "# Using 'with' to automatically close a file after reading\n",
    "with open(\"myfile.txt\", \"r\") as file:\n",
    "    content = file.read()\n",
    "    # Perform operations on 'content'\n",
    "\n",
    "# 'file' is automatically closed outside the 'with' block"
   ]
  },
  {
   "cell_type": "markdown",
   "id": "89e94fc4-59c1-4e89-add4-f0ec84079d67",
   "metadata": {},
   "source": [
    " # yield"
   ]
  },
  {
   "cell_type": "code",
   "execution_count": 47,
   "id": "246981a2-f37b-4800-af14-5a1b07914aa5",
   "metadata": {},
   "outputs": [
    {
     "name": "stdout",
     "output_type": "stream",
     "text": [
      "<class 'generator'>\n"
     ]
    },
    {
     "data": {
      "text/plain": [
       "1"
      ]
     },
     "execution_count": 47,
     "metadata": {},
     "output_type": "execute_result"
    }
   ],
   "source": [
    "list = [1,2,3]\n",
    "def square(list_temp):\n",
    "    for i in list_temp:\n",
    "        \n",
    "        yield i **10\n",
    "        \n",
    "result=square(list)\n",
    "print(type(result))\n",
    "next(result)"
   ]
  },
  {
   "cell_type": "code",
   "execution_count": null,
   "id": "0685d6cb-fb79-4e44-a208-6c3a1dc628af",
   "metadata": {},
   "outputs": [],
   "source": []
  }
 ],
 "metadata": {
  "kernelspec": {
   "display_name": "Python 3 (ipykernel)",
   "language": "python",
   "name": "python3"
  },
  "language_info": {
   "codemirror_mode": {
    "name": "ipython",
    "version": 3
   },
   "file_extension": ".py",
   "mimetype": "text/x-python",
   "name": "python",
   "nbconvert_exporter": "python",
   "pygments_lexer": "ipython3",
   "version": "3.11.2"
  }
 },
 "nbformat": 4,
 "nbformat_minor": 5
}
